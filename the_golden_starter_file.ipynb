{
 "cells": [
  {
   "cell_type": "code",
   "execution_count": 1,
   "metadata": {},
   "outputs": [
    {
     "name": "stderr",
     "output_type": "stream",
     "text": [
      "C:\\Users\\thebe\\anaconda\\envs\\alpacaenv\\lib\\site-packages\\ipykernel\\parentpoller.py:116: UserWarning: Parent poll failed.  If the frontend dies,\n",
      "                the kernel may be left running.  Please let us know\n",
      "                about your system (bitness, Python, etc.) at\n",
      "                ipython-dev@scipy.org\n",
      "  ipython-dev@scipy.org\"\"\")\n"
     ]
    }
   ],
   "source": [
    "# imports\n",
    "import os\n",
    "import requests\n",
    "import pandas as pd\n",
    "from dotenv import load_dotenv\n",
    "import alpaca_trade_api as tradeapi\n",
    "import datetime"
   ]
  },
  {
   "cell_type": "code",
   "execution_count": 2,
   "metadata": {},
   "outputs": [
    {
     "data": {
      "text/plain": [
       "True"
      ]
     },
     "execution_count": 2,
     "metadata": {},
     "output_type": "execute_result"
    }
   ],
   "source": [
    "# load env file\n",
    "load_dotenv(\"C:\\\\Users\\\\thebe\\\\Fintech\\\\API_KEYS.env\")"
   ]
  },
  {
   "cell_type": "code",
   "execution_count": 3,
   "metadata": {},
   "outputs": [],
   "source": [
    "# Set Alpaca API key and secret\n",
    "alpaca_api_key = os.getenv(\"ALPACA_API_KEY\")\n",
    "alpaca_secret_key = os.getenv(\"ALPACA_SECRET_KEY\")\n",
    "\n",
    "api = tradeapi.REST(\n",
    "    alpaca_api_key,\n",
    "    alpaca_secret_key,\n",
    "    api_version = 'v2'\n",
    ")"
   ]
  },
  {
   "cell_type": "code",
   "execution_count": 4,
   "metadata": {},
   "outputs": [],
   "source": [
    "# initialize variables for api\n",
    "ticker = \"GLD\"\n",
    "timeframe = \"1D\"\n",
    "current_date = datetime.datetime.now()\n",
    "start_date = datetime.datetime(current_date.year-5, current_date.month, current_date.day)"
   ]
  },
  {
   "cell_type": "code",
   "execution_count": 5,
   "metadata": {},
   "outputs": [
    {
     "data": {
      "text/html": [
       "<div>\n",
       "<style scoped>\n",
       "    .dataframe tbody tr th:only-of-type {\n",
       "        vertical-align: middle;\n",
       "    }\n",
       "\n",
       "    .dataframe tbody tr th {\n",
       "        vertical-align: top;\n",
       "    }\n",
       "\n",
       "    .dataframe thead tr th {\n",
       "        text-align: left;\n",
       "    }\n",
       "\n",
       "    .dataframe thead tr:last-of-type th {\n",
       "        text-align: right;\n",
       "    }\n",
       "</style>\n",
       "<table border=\"1\" class=\"dataframe\">\n",
       "  <thead>\n",
       "    <tr>\n",
       "      <th></th>\n",
       "      <th colspan=\"5\" halign=\"left\">GLD</th>\n",
       "    </tr>\n",
       "    <tr>\n",
       "      <th></th>\n",
       "      <th>open</th>\n",
       "      <th>high</th>\n",
       "      <th>low</th>\n",
       "      <th>close</th>\n",
       "      <th>volume</th>\n",
       "    </tr>\n",
       "    <tr>\n",
       "      <th>time</th>\n",
       "      <th></th>\n",
       "      <th></th>\n",
       "      <th></th>\n",
       "      <th></th>\n",
       "      <th></th>\n",
       "    </tr>\n",
       "  </thead>\n",
       "  <tbody>\n",
       "    <tr>\n",
       "      <th>2017-05-16 00:00:00-04:00</th>\n",
       "      <td>117.45</td>\n",
       "      <td>117.910</td>\n",
       "      <td>117.40</td>\n",
       "      <td>117.6600</td>\n",
       "      <td>3549305</td>\n",
       "    </tr>\n",
       "    <tr>\n",
       "      <th>2017-05-17 00:00:00-04:00</th>\n",
       "      <td>119.36</td>\n",
       "      <td>120.020</td>\n",
       "      <td>119.27</td>\n",
       "      <td>119.8000</td>\n",
       "      <td>12182370</td>\n",
       "    </tr>\n",
       "    <tr>\n",
       "      <th>2017-05-18 00:00:00-04:00</th>\n",
       "      <td>119.77</td>\n",
       "      <td>119.840</td>\n",
       "      <td>118.56</td>\n",
       "      <td>118.8200</td>\n",
       "      <td>8196025</td>\n",
       "    </tr>\n",
       "    <tr>\n",
       "      <th>2017-05-19 00:00:00-04:00</th>\n",
       "      <td>119.39</td>\n",
       "      <td>119.545</td>\n",
       "      <td>118.88</td>\n",
       "      <td>119.4100</td>\n",
       "      <td>5632797</td>\n",
       "    </tr>\n",
       "    <tr>\n",
       "      <th>2017-05-22 00:00:00-04:00</th>\n",
       "      <td>119.63</td>\n",
       "      <td>120.140</td>\n",
       "      <td>119.58</td>\n",
       "      <td>119.8953</td>\n",
       "      <td>3981207</td>\n",
       "    </tr>\n",
       "  </tbody>\n",
       "</table>\n",
       "</div>"
      ],
      "text/plain": [
       "                              GLD                                     \n",
       "                             open     high     low     close    volume\n",
       "time                                                                  \n",
       "2017-05-16 00:00:00-04:00  117.45  117.910  117.40  117.6600   3549305\n",
       "2017-05-17 00:00:00-04:00  119.36  120.020  119.27  119.8000  12182370\n",
       "2017-05-18 00:00:00-04:00  119.77  119.840  118.56  118.8200   8196025\n",
       "2017-05-19 00:00:00-04:00  119.39  119.545  118.88  119.4100   5632797\n",
       "2017-05-22 00:00:00-04:00  119.63  120.140  119.58  119.8953   3981207"
      ]
     },
     "execution_count": 5,
     "metadata": {},
     "output_type": "execute_result"
    }
   ],
   "source": [
    "# read in data\n",
    "ticker_data = api.get_barset(\n",
    "    ticker,\n",
    "    timeframe,\n",
    "    start=start_date,\n",
    "    end=current_date,\n",
    "    limit=1000\n",
    ").df\n",
    "\n",
    "ticker_data.head()"
   ]
  },
  {
   "cell_type": "code",
   "execution_count": 12,
   "metadata": {},
   "outputs": [],
   "source": [
    "# get crypto data"
   ]
  },
  {
   "cell_type": "code",
   "execution_count": 7,
   "metadata": {},
   "outputs": [],
   "source": [
    "# clean data"
   ]
  },
  {
   "cell_type": "code",
   "execution_count": 8,
   "metadata": {},
   "outputs": [],
   "source": [
    "# def sharpe ratio function"
   ]
  },
  {
   "cell_type": "code",
   "execution_count": 9,
   "metadata": {},
   "outputs": [],
   "source": [
    "# def standard deviations function"
   ]
  },
  {
   "cell_type": "code",
   "execution_count": 10,
   "metadata": {},
   "outputs": [],
   "source": [
    "# returns"
   ]
  },
  {
   "cell_type": "code",
   "execution_count": 11,
   "metadata": {},
   "outputs": [],
   "source": [
    "# building visuals with sliders"
   ]
  },
  {
   "cell_type": "code",
   "execution_count": null,
   "metadata": {},
   "outputs": [],
   "source": []
  }
 ],
 "metadata": {
  "kernelspec": {
   "display_name": "Python [conda env:alpacaenv]",
   "language": "python",
   "name": "conda-env-alpacaenv-py"
  },
  "language_info": {
   "codemirror_mode": {
    "name": "ipython",
    "version": 3
   },
   "file_extension": ".py",
   "mimetype": "text/x-python",
   "name": "python",
   "nbconvert_exporter": "python",
   "pygments_lexer": "ipython3",
   "version": "3.7.9"
  }
 },
 "nbformat": 4,
 "nbformat_minor": 4
}
